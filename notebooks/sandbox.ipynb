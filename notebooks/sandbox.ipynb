{
 "cells": [
  {
   "cell_type": "code",
   "execution_count": 5,
   "metadata": {},
   "outputs": [],
   "source": [
    "import re"
   ]
  },
  {
   "cell_type": "code",
   "execution_count": 21,
   "metadata": {},
   "outputs": [],
   "source": [
    "message = \"!lights \"\n",
    "colour_pattern = \"!lights ([a-zA-Z]+).*\""
   ]
  },
  {
   "cell_type": "code",
   "execution_count": 22,
   "metadata": {},
   "outputs": [],
   "source": [
    "hues = {'red': 0, 'yellow': 10000, 'green': 20000, 'cyan': 35000, 'blue': 45000, 'purple': 49152, 'pink': 57500}\n"
   ]
  },
  {
   "cell_type": "code",
   "execution_count": 23,
   "metadata": {},
   "outputs": [
    {
     "name": "stdout",
     "output_type": "stream",
     "text": [
      "!lights \n"
     ]
    }
   ],
   "source": [
    "if message.startswith(\"!lights\"): \n",
    "    print(message)"
   ]
  },
  {
   "cell_type": "code",
   "execution_count": 24,
   "metadata": {},
   "outputs": [
    {
     "name": "stdout",
     "output_type": "stream",
     "text": [
      "!lights \n"
     ]
    }
   ],
   "source": [
    "if message.startswith(\"!lights\"):    \n",
    "    print(message)\n",
    "    # try for english name colour\n",
    "    colour_in = re.search(colour_pattern, message)\n",
    "    if colour_in:\n",
    "        print(\"in\")\n",
    "        colour = colour_in.group(1)\n",
    "        try:\n",
    "            print(hues[colour])\n",
    "        except KeyError: \n",
    "            print(\"What idiot spelt that colour wrong\")"
   ]
  },
  {
   "cell_type": "code",
   "execution_count": 32,
   "metadata": {},
   "outputs": [
    {
     "data": {
      "text/plain": [
       "\"Use '!lights ___' with one of these colours: red yellow green cyan blue purple pink\""
      ]
     },
     "execution_count": 32,
     "metadata": {},
     "output_type": "execute_result"
    }
   ],
   "source": [
    "\"Use '!lights ___' with one of these colours: \" + \" \".join(list(hues.keys()))"
   ]
  },
  {
   "cell_type": "code",
   "execution_count": null,
   "metadata": {},
   "outputs": [],
   "source": []
  }
 ],
 "metadata": {
  "kernelspec": {
   "display_name": "Python 3",
   "language": "python",
   "name": "python3"
  },
  "language_info": {
   "codemirror_mode": {
    "name": "ipython",
    "version": 3
   },
   "file_extension": ".py",
   "mimetype": "text/x-python",
   "name": "python",
   "nbconvert_exporter": "python",
   "pygments_lexer": "ipython3",
   "version": "3.7.6"
  }
 },
 "nbformat": 4,
 "nbformat_minor": 4
}
